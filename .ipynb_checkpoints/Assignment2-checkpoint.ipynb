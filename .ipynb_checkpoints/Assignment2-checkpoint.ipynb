{
 "metadata": {
  "name": "",
  "signature": "sha256:9d7c1ecaa46ba2c898e5bb68bdf16498d4e30a9ddbd958fa99528acff618e755"
 },
 "nbformat": 3,
 "nbformat_minor": 0,
 "worksheets": [
  {
   "cells": [
    {
     "cell_type": "markdown",
     "metadata": {},
     "source": [
      "# ATM 623: Climate Modeling\n",
      "## Assignment 2: Albedo feedback in the zero-dimensional energy balance model"
     ]
    },
    {
     "cell_type": "markdown",
     "metadata": {},
     "source": [
      "In lecture we defined a zero-dimensional energy balance model for the global mean surface temperature $T$ as follows\n",
      "\n",
      "$$C  \\frac{dT}{dt} =(1-\u03b1)Q- OLR(T)$$\n",
      "\n",
      "$$OLR= \\sigma (\\beta T)^4$$\n",
      "\n",
      "where we defined these terms:\n",
      "- $C = 4\\times 10^8$ J m$^{-2}$ K$^{-1}$ is a heat capacity for the atmosphere-ocean column\n",
      "- $\\alpha$ is the global mean planetary albedo\n",
      "- $\\sigma = 5.67 \\times 10^{-8}$ W m$^{-2}$ K$^{-4}$ is the Stefan-Boltzmann constant\n",
      "- $\\beta=0.885$ is our parameter for the proportionality between surface temperature and emission temperature\n",
      "- $Q = 341.3$ W m$^{-2}$ is the global-mean incoming solar radiation.\n",
      "\n",
      "For this exercise, we will introduce a new physical process into our model by letting the planetary albedo depend on temperature. The idea is that a warmer planet has less ice and snow at the surface, and thus a lower planetary albedo.\n",
      "\n",
      "Represent the ice-albedo feedback through the following formula:\n",
      "\n",
      "$$ \\alpha(T) = \\left\\{ \\begin{array}{ccc}\n",
      "\\alpha_i &   & T \\le T_i \\\\\n",
      "\\alpha_o + (\\alpha_i-\\alpha_o) \\frac{(T-T_o)^2}{(T_i-T_o)^2} &   & T_i < T < T_o \\\\\n",
      "\\alpha_o &   & T \\ge T_o \\end{array} \\right\\}$$\n",
      "\n",
      "with the following parameter values:\n",
      "- $\\alpha_o = 0.289$ is the albedo of a warm, ice-free planet\n",
      "- $\\alpha_i = 0.7$ is the albedo of a very cold, completely ice-covered planet\n",
      "- $T_o = 293$ K is the threshold temperature above which our model assumes the planet is ice-free\n",
      "- $T_i = 260$ K is the threshold temperature below which our model assumes the planet is completely ice covered. \n",
      "\n",
      "For intermediate temperature, this formula gives a smooth variation in albedo with global mean temperature. It is tuned to reproduce the observed albedo $\\alpha = 0.299$ for $T = 288$ K. "
     ]
    },
    {
     "cell_type": "markdown",
     "metadata": {},
     "source": [
      "## Your assignment:\n",
      "\n",
      "Complete the three problems below. Submit your solutions in a single IPython notebook that contains your code, your figures, and your text.\n",
      "\n",
      "I suggest starting by making a copy of this file, and adding your answers in additional code and text cells following each question.\n",
      "\n",
      "Submit your completed notebook to me by email before class next Tuesday February 3."
     ]
    },
    {
     "cell_type": "markdown",
     "metadata": {},
     "source": [
      "### Problem 1\n",
      "\n",
      "- Define a Python function that implements the above albedo formula. *There is definitely more than one way to do it. It doesn't matter how you do it as long as it works!*\n",
      "- Use your function to calculate albedos for a wide range on planetary temperature (e.g. from $T=250$ K to $T=300$ K.)\n",
      "- Present your results (albedo as a function of global mean temperature) in a nicely labeled figure."
     ]
    },
    {
     "cell_type": "markdown",
     "metadata": {},
     "source": [
      "### Problem 2\n",
      "\n",
      "The climate system will be at equilibrium whenever the net shortwave flux into the system balances the longwave flux out of the system, or $ASR = OLR$. Here, you will use a graphical approach to look for equilibrium solutions. **On a single graph, plot both $ASR(T)$ and $OLR(T)$ as functions of global mean surface temperature $T$.** Use the same temperature range you used in Problem 1. \n",
      "\n",
      "Intersections of the two graphs indicate temperature(s) at which the energy budget is balanced. According to our model, if the Earth was at this temperature, it should remain at this temperature.\n",
      "\n",
      "Based on your graphs, try to answer the following questions:\n",
      "- How many equilibria do you find in your graph?\n",
      "- At approximately what temperatures?\n",
      "- If you found more than one equilibrium, try to explain in words why this is possible in the model. "
     ]
    },
    {
     "cell_type": "markdown",
     "metadata": {},
     "source": [
      "### Problem 3\n",
      "\n",
      "**Use a numerical time-stepping method to integrate the full model from an arbitrary initial temperature out to (near) equilibrium.** Experiment with different initial temperatures to see what happens over time. *Is it possible to get the model to equilibrate in all the different solutions you found in Problem 2?* \n",
      "\n",
      "**Present your results in a single graph with temperature on the y axis and time on the x axis.** Each curve on the graph should indicate the temperature timeseries from a single model integration. Different curves should show the solutions beginning from different initial temperatures. Use as many different initial temperatures as you think is necessary to fully document the characteristics of the model.\n",
      "\n",
      "In words, comment on what this exercise has revealed (if anything) about the physics of this system."
     ]
    },
    {
     "cell_type": "code",
     "collapsed": false,
     "input": [],
     "language": "python",
     "metadata": {},
     "outputs": [],
     "prompt_number": 0
    }
   ],
   "metadata": {}
  }
 ]
}